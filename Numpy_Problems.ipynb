{
  "nbformat": 4,
  "nbformat_minor": 0,
  "metadata": {
    "colab": {
      "provenance": []
    },
    "kernelspec": {
      "name": "python3",
      "display_name": "Python 3"
    },
    "language_info": {
      "name": "python"
    }
  },
  "cells": [
    {
      "cell_type": "code",
      "execution_count": 31,
      "metadata": {
        "id": "55qD59Era2oU"
      },
      "outputs": [],
      "source": [
        "import numpy as np"
      ]
    },
    {
      "cell_type": "markdown",
      "source": [
        "NumPy program to create an array of all even integers from 30 to 70"
      ],
      "metadata": {
        "id": "z4LCqlBfbwLE"
      }
    },
    {
      "cell_type": "code",
      "source": [
        "arr = np.arange(30, 71, 2)\n",
        "print(\"Array of all even integers from 30 to 70:\", arr)"
      ],
      "metadata": {
        "colab": {
          "base_uri": "https://localhost:8080/"
        },
        "id": "Ds6Qkz7bbvXd",
        "outputId": "8b1ac666-91d2-4378-d511-cecdac924190"
      },
      "execution_count": 32,
      "outputs": [
        {
          "output_type": "stream",
          "name": "stdout",
          "text": [
            "Array of all even integers from 30 to 70: [30 32 34 36 38 40 42 44 46 48 50 52 54 56 58 60 62 64 66 68 70]\n"
          ]
        }
      ]
    },
    {
      "cell_type": "markdown",
      "source": [
        "NumPy program to generate an array of 15 random numbers from a standard normal\n",
        "distribution"
      ],
      "metadata": {
        "id": "OelwEWqDcncA"
      }
    },
    {
      "cell_type": "code",
      "source": [
        "arr = np.random.randn(15)\n",
        "print(\"Array of 15 random numbers from a standard normal distribution:\", arr)"
      ],
      "metadata": {
        "colab": {
          "base_uri": "https://localhost:8080/"
        },
        "id": "7V-rbxcRcmNH",
        "outputId": "70949a3a-2eb8-4ba8-a63f-d482b20f50e9"
      },
      "execution_count": 33,
      "outputs": [
        {
          "output_type": "stream",
          "name": "stdout",
          "text": [
            "Array of 15 random numbers from a standard normal distribution: [-0.51742763  1.09975478 -1.07230568 -0.53333584  2.45735845  1.36753245\n",
            "  1.55388605 -0.59533688 -1.0967582   1.18326009 -1.30848988 -1.82294263\n",
            "  0.05478838  0.98759457  0.08752768]\n"
          ]
        }
      ]
    },
    {
      "cell_type": "markdown",
      "source": [
        "Compute the cross-product of two matrices in NumPy"
      ],
      "metadata": {
        "id": "9P3AvZq-ePGc"
      }
    },
    {
      "cell_type": "code",
      "source": [
        "m1 = np.array([[1, 2, 3], [4, 5, 6]])\n",
        "m2 = np.array([[7, 8, 9], [10, 11, 12]])\n",
        "cross_product = np.cross(m1, m2)\n",
        "print(\"Cross-product of two matrices:\", cross_product)"
      ],
      "metadata": {
        "colab": {
          "base_uri": "https://localhost:8080/"
        },
        "id": "ZUJib__MeOHD",
        "outputId": "9acc4d93-149d-4740-c854-8bb18ab8faa7"
      },
      "execution_count": 34,
      "outputs": [
        {
          "output_type": "stream",
          "name": "stdout",
          "text": [
            "Cross-product of two matrices: [[-6 12 -6]\n",
            " [-6 12 -6]]\n"
          ]
        }
      ]
    },
    {
      "cell_type": "markdown",
      "source": [
        " Compute the determinant of an array using NumPy"
      ],
      "metadata": {
        "id": "aXMxXDdif75J"
      }
    },
    {
      "cell_type": "code",
      "source": [
        "arr = np.array([[1, 2], [3, 4]])\n",
        "dt = np.linalg.det(arr)\n",
        "print(\"Determinant of the array:\", dt)"
      ],
      "metadata": {
        "colab": {
          "base_uri": "https://localhost:8080/"
        },
        "id": "hj0cBxs2gGku",
        "outputId": "6b14e5f8-6bfd-4859-b719-344fa8477880"
      },
      "execution_count": 35,
      "outputs": [
        {
          "output_type": "stream",
          "name": "stdout",
          "text": [
            "Determinant of the array: -2.0000000000000004\n"
          ]
        }
      ]
    },
    {
      "cell_type": "markdown",
      "source": [
        "3x3x3 array with random values using NumPy"
      ],
      "metadata": {
        "id": "VoV2RXdrhWm8"
      }
    },
    {
      "cell_type": "code",
      "source": [
        "arr = np.random.random((3, 3, 3))\n",
        "print(\"3x3x3 array with random values:\", arr)"
      ],
      "metadata": {
        "colab": {
          "base_uri": "https://localhost:8080/"
        },
        "id": "kDM__7rwhZWQ",
        "outputId": "4f056a4a-1b9f-4839-adfd-870201c48119"
      },
      "execution_count": 36,
      "outputs": [
        {
          "output_type": "stream",
          "name": "stdout",
          "text": [
            "3x3x3 array with random values: [[[0.82619521 0.70398052 0.39727321]\n",
            "  [0.55442186 0.3413868  0.69210645]\n",
            "  [0.71900715 0.27462662 0.236485  ]]\n",
            "\n",
            " [[0.11018552 0.98582906 0.79067934]\n",
            "  [0.68980167 0.83405951 0.93479743]\n",
            "  [0.50701557 0.90889292 0.44629572]]\n",
            "\n",
            " [[0.41393882 0.62397618 0.47828196]\n",
            "  [0.01679504 0.99582987 0.37706687]\n",
            "  [0.41860828 0.9400675  0.92012108]]]\n"
          ]
        }
      ]
    },
    {
      "cell_type": "markdown",
      "source": [
        "5x5 array with random values and find the minimum and maximum values using\n",
        "NumPy"
      ],
      "metadata": {
        "id": "nVHRrYo2h5cF"
      }
    },
    {
      "cell_type": "code",
      "source": [
        "arr = np.random.random((5, 5))\n",
        "min = np.min(arr)\n",
        "max = np.max(arr)\n",
        "print(\"5x5 array with random values:\", arr)\n",
        "print(\"Minimum value:\", min)\n",
        "print(\"Maximum value:\", max)"
      ],
      "metadata": {
        "colab": {
          "base_uri": "https://localhost:8080/"
        },
        "id": "gYoB5OiMiTZT",
        "outputId": "5b0f2d7b-9017-4064-c1d1-b2449763f00e"
      },
      "execution_count": 37,
      "outputs": [
        {
          "output_type": "stream",
          "name": "stdout",
          "text": [
            "5x5 array with random values: [[0.68651338 0.84801124 0.4985999  0.22888048 0.40525696]\n",
            " [0.07654009 0.8212965  0.19349078 0.72504454 0.17004394]\n",
            " [0.39219448 0.62177385 0.00911576 0.21524963 0.66201924]\n",
            " [0.75692729 0.4386372  0.208292   0.18847801 0.001321  ]\n",
            " [0.41905586 0.5824907  0.68770147 0.09214975 0.19621404]]\n",
            "Minimum value: 0.0013209989088065477\n",
            "Maximum value: 0.8480112376764932\n"
          ]
        }
      ]
    },
    {
      "cell_type": "markdown",
      "source": [
        "Compute the mean, standard deviation, and variance of a given array along the second axis in\n",
        "NumPy"
      ],
      "metadata": {
        "id": "op_-fgacizc6"
      }
    },
    {
      "cell_type": "code",
      "source": [
        "mean_value = np.mean(arr, axis=1)\n",
        "std_deviation = np.std(arr, axis=1)\n",
        "variance = np.var(arr, axis=1)\n",
        "print(\"Mean along the second axis:\", mean_value)\n",
        "print(\"Standard deviation along the second axis:\", std_deviation)\n",
        "print(\"Variance along the second axis:\", variance)"
      ],
      "metadata": {
        "colab": {
          "base_uri": "https://localhost:8080/"
        },
        "id": "xvqUUPj3jFtG",
        "outputId": "599a7a48-29db-4df7-cf32-929de199100a"
      },
      "execution_count": 38,
      "outputs": [
        {
          "output_type": "stream",
          "name": "stdout",
          "text": [
            "Mean along the second axis: [0.53345239 0.39728317 0.38007059 0.3187311  0.39552236]\n",
            "Standard deviation along the second axis: [0.21577199 0.31088903 0.24610402 0.25934734 0.22478361]\n",
            "Variance along the second axis: [0.04655755 0.09665199 0.06056719 0.06726104 0.05052767]\n"
          ]
        }
      ]
    }
  ]
}